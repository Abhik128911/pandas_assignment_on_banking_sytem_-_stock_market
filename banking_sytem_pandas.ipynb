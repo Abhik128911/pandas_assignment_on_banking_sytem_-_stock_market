{
 "cells": [
  {
   "cell_type": "code",
   "execution_count": null,
   "id": "d2dc5e8c",
   "metadata": {},
   "outputs": [],
   "source": [
    "import pandas as pd\n",
    "import numpy as np\n",
    "\n",
    "#Customers\n",
    "customers = pd.DataFrame({\n",
    "    \"cust_id\": [1, 2, 3, 4],\n",
    "    \"name\": [\"Alice\", \"Bob\", \"Carol\", \"Dave\"],\n",
    "    \"type\": [\"Individual\", \"Individual\", \"Business\", \"Business\"]\n",
    "})\n",
    "\n",
    "#Accounts (Many per customer)\n",
    "accounts = pd.DataFrame({\n",
    "    \"acc_id\": [101, 102, 103, 104, 105],\n",
    "    \"cust_id\": [1, 2, 2, 3, 4],\n",
    "    \"acc_type\": [\"Savings\", \"Savings\", \"Current\", \"Current\", \"Savings\"],\n",
    "    \"opened\": pd.to_datetime([\n",
    "        \"2022-01-01\", \"2022-05-20\", \"2023-02-12\", \"2022-08-01\", \"2023-01-11\"\n",
    "    ])\n",
    "})\n",
    "\n",
    "#Transactions (multiple per account)\n",
    "transactions = pd.DataFrame({\n",
    "    \"txn_id\": range(1,11),\n",
    "    \"acc_id\": [101,101,102,102,103,104,104,105,105,105],\n",
    "    \"date\": pd.to_datetime([\n",
    "        \"2024-01-01\", \"2024-02-10\", \"2024-01-20\", \"2024-03-05\", \"2024-02-28\", \n",
    "        \"2024-01-15\", \"2024-03-08\", \"2024-01-18\", \"2024-02-14\", \"2024-03-12\"\n",
    "    ]),\n",
    "    \"t_type\": [\"credit\", \"debit\", \"credit\", \"debit\", \"credit\", \n",
    "             \"debit\", \"credit\", \"credit\", \"debit\", \"credit\"],  # positive/negative cash flow\n",
    "    \"amount\": [10000, 3000, 15000, 5000, 45000, \n",
    "               7000, 25000, 12000, 4000, 8000]\n",
    "})\n"
   ]
  },
  {
   "cell_type": "code",
   "execution_count": 2,
   "id": "05fb9e47",
   "metadata": {},
   "outputs": [
    {
     "name": "stdout",
     "output_type": "stream",
     "text": [
      "   txn_id  acc_id       date  type_x  amount  cust_id acc_type     opened  \\\n",
      "0       1     101 2024-01-01  credit   10000        1  Savings 2022-01-01   \n",
      "1       2     101 2024-02-10   debit    3000        1  Savings 2022-01-01   \n",
      "2       3     102 2024-01-20  credit   15000        2  Savings 2022-05-20   \n",
      "3       4     102 2024-03-05   debit    5000        2  Savings 2022-05-20   \n",
      "4       5     103 2024-02-28  credit   45000        2  Current 2023-02-12   \n",
      "5       6     104 2024-01-15   debit    7000        3  Current 2022-08-01   \n",
      "6       7     104 2024-03-08  credit   25000        3  Current 2022-08-01   \n",
      "7       8     105 2024-01-18  credit   12000        4  Savings 2023-01-11   \n",
      "8       9     105 2024-02-14   debit    4000        4  Savings 2023-01-11   \n",
      "9      10     105 2024-03-12  credit    8000        4  Savings 2023-01-11   \n",
      "\n",
      "    name      type_y  \n",
      "0  Alice  Individual  \n",
      "1  Alice  Individual  \n",
      "2    Bob  Individual  \n",
      "3    Bob  Individual  \n",
      "4    Bob  Individual  \n",
      "5  Carol    Business  \n",
      "6  Carol    Business  \n",
      "7   Dave    Business  \n",
      "8   Dave    Business  \n",
      "9   Dave    Business  \n"
     ]
    }
   ],
   "source": [
    "# Merge account, customer info to transactions\n",
    "txn_full = transactions.merge(accounts, on=\"acc_id\").merge(customers, on=\"cust_id\")\n",
    "print(txn_full)\n"
   ]
  },
  {
   "cell_type": "code",
   "execution_count": 8,
   "id": "0c5f5fd1",
   "metadata": {},
   "outputs": [
    {
     "name": "stdout",
     "output_type": "stream",
     "text": [
      "   txn_id  acc_id  amount  type_x  signed_amt\n",
      "0       1     101   10000  credit       10000\n",
      "1       2     101    3000   debit       -3000\n",
      "2       3     102   15000  credit       15000\n",
      "3       4     102    5000   debit       -5000\n",
      "4       5     103   45000  credit       45000\n",
      "5       6     104    7000   debit       -7000\n",
      "6       7     104   25000  credit       25000\n",
      "7       8     105   12000  credit       12000\n",
      "8       9     105    4000   debit       -4000\n",
      "9      10     105    8000  credit        8000\n"
     ]
    }
   ],
   "source": [
    "# Add signed \"amount\" column using the correct transaction type column\n",
    "txn_full[\"signed_amt\"] = np.where(txn_full[\"type_x\"]==\"credit\", txn_full[\"amount\"], -txn_full[\"amount\"])\n",
    "print(txn_full[[\"txn_id\",\"acc_id\",\"amount\",\"type_x\",\"signed_amt\"]])\n"
   ]
  },
  {
   "cell_type": "code",
   "execution_count": 9,
   "id": "65f0d7d0",
   "metadata": {},
   "outputs": [
    {
     "name": "stdout",
     "output_type": "stream",
     "text": [
      "   acc_id       date  signed_amt  balance\n",
      "0     101 2024-01-01       10000    10000\n",
      "1     101 2024-02-10       -3000     7000\n",
      "2     102 2024-01-20       15000    15000\n",
      "3     102 2024-03-05       -5000    10000\n",
      "4     103 2024-02-28       45000    45000\n",
      "5     104 2024-01-15       -7000    -7000\n",
      "6     104 2024-03-08       25000    18000\n",
      "7     105 2024-01-18       12000    12000\n",
      "8     105 2024-02-14       -4000     8000\n",
      "9     105 2024-03-12        8000    16000\n"
     ]
    }
   ],
   "source": [
    "# Compute running balance per account\n",
    "txn_full = txn_full.sort_values([\"acc_id\",\"date\",\"txn_id\"])\n",
    "txn_full[\"balance\"] = (\n",
    "    txn_full.groupby(\"acc_id\")[\"signed_amt\"].cumsum()\n",
    ")\n",
    "print(txn_full[[\"acc_id\",\"date\",\"signed_amt\",\"balance\"]])\n"
   ]
  },
  {
   "cell_type": "code",
   "execution_count": 11,
   "id": "b5f9693c",
   "metadata": {},
   "outputs": [
    {
     "name": "stdout",
     "output_type": "stream",
     "text": [
      "type_x  credit  debit\n",
      "acc_id               \n",
      "101      10000   3000\n",
      "102      15000   5000\n",
      "103      45000      0\n",
      "104      25000   7000\n",
      "105      20000   4000\n",
      "type_x   credit  debit\n",
      "cust_id               \n",
      "1         10000   3000\n",
      "2         60000   5000\n",
      "3         25000   7000\n",
      "4         20000   4000\n"
     ]
    }
   ],
   "source": [
    "# Total deposits/withdrawals per account and customer\n",
    "totals_acc = txn_full.pivot_table(index=\"acc_id\", columns=\"type_x\", values=\"amount\", aggfunc=\"sum\", fill_value=0)\n",
    "totals_cust = txn_full.groupby([\"cust_id\",\"type_x\"])[\"amount\"].sum().unstack(fill_value=0)\n",
    "print(totals_acc)\n",
    "print(totals_cust)\n"
   ]
  },
  {
   "cell_type": "code",
   "execution_count": 12,
   "id": "e9285453",
   "metadata": {},
   "outputs": [
    {
     "name": "stdout",
     "output_type": "stream",
     "text": [
      "acc_id          101      102      103      104      105\n",
      "date                                                   \n",
      "2024-01-31  10000.0  15000.0      NaN  -7000.0  12000.0\n",
      "2024-02-29   7000.0      NaN  45000.0      NaN   8000.0\n",
      "2024-03-31      NaN  10000.0      NaN  18000.0  16000.0\n"
     ]
    },
    {
     "name": "stderr",
     "output_type": "stream",
     "text": [
      "C:\\Users\\Lenovo\\AppData\\Local\\Temp\\ipykernel_120\\3434249321.py:6: FutureWarning: 'M' is deprecated and will be removed in a future version, please use 'ME' instead.\n",
      "  .resample(\"M\")\n"
     ]
    }
   ],
   "source": [
    "# End-of-month (\"EOM\") account balance over time \n",
    "# Set date as index for resampling\n",
    "ts = txn_full.set_index(\"date\")\n",
    "eom_bal = (\n",
    "    ts.groupby(\"acc_id\")[\"balance\"]\n",
    "      .resample(\"M\")\n",
    "      .last()\n",
    "      .unstack(level=0)\n",
    ")\n",
    "print(eom_bal)\n"
   ]
  },
  {
   "cell_type": "code",
   "execution_count": 13,
   "id": "0cc9f04d",
   "metadata": {},
   "outputs": [
    {
     "name": "stdout",
     "output_type": "stream",
     "text": [
      "         total_credits  total_debits   last_txn  latest_balance   name  \\\n",
      "cust_id                                                                  \n",
      "1                10000          3000 2024-02-10            7000  Alice   \n",
      "2                60000          5000 2024-03-05           45000    Bob   \n",
      "3                25000          7000 2024-03-08           18000  Carol   \n",
      "4                20000          4000 2024-03-12           16000   Dave   \n",
      "\n",
      "               type  \n",
      "cust_id              \n",
      "1        Individual  \n",
      "2        Individual  \n",
      "3          Business  \n",
      "4          Business  \n"
     ]
    }
   ],
   "source": [
    "# Customer summaries: total balance, recent activity\n",
    "summary = (\n",
    "    txn_full.groupby(\"cust_id\").agg(\n",
    "        total_credits = (\"signed_amt\", lambda x: x[x>0].sum()),\n",
    "        total_debits = (\"signed_amt\", lambda x: -x[x<0].sum()),\n",
    "        last_txn = (\"date\",\"max\"),\n",
    "        latest_balance = (\"balance\",\"last\")\n",
    "    )\n",
    ")\n",
    "print(summary.join(customers.set_index(\"cust_id\")))\n"
   ]
  },
  {
   "cell_type": "code",
   "execution_count": 14,
   "id": "0b8a3f05",
   "metadata": {},
   "outputs": [
    {
     "name": "stdout",
     "output_type": "stream",
     "text": [
      "   acc_id       date  balance  roll_avg_bal\n",
      "0     101 2024-01-01    10000       10000.0\n",
      "1     101 2024-02-10     7000        8500.0\n",
      "2     102 2024-01-20    15000       15000.0\n",
      "3     102 2024-03-05    10000       12500.0\n",
      "4     103 2024-02-28    45000       45000.0\n",
      "5     104 2024-01-15    -7000       -7000.0\n",
      "6     104 2024-03-08    18000        5500.0\n",
      "7     105 2024-01-18    12000       12000.0\n",
      "8     105 2024-02-14     8000       10000.0\n",
      "9     105 2024-03-12    16000       12000.0\n"
     ]
    }
   ],
   "source": [
    "# Rolling 3-transaction moving average for account balances\n",
    "txn_full[\"roll_avg_bal\"] = (\n",
    "    txn_full.groupby(\"acc_id\")[\"balance\"]\n",
    "            .rolling(3,min_periods=1).mean().reset_index(level=0,drop=True)\n",
    ")\n",
    "print(txn_full[[\"acc_id\",\"date\",\"balance\",\"roll_avg_bal\"]])\n"
   ]
  }
 ],
 "metadata": {
  "kernelspec": {
   "display_name": "Python 3",
   "language": "python",
   "name": "python3"
  },
  "language_info": {
   "codemirror_mode": {
    "name": "ipython",
    "version": 3
   },
   "file_extension": ".py",
   "mimetype": "text/x-python",
   "name": "python",
   "nbconvert_exporter": "python",
   "pygments_lexer": "ipython3",
   "version": "3.12.4"
  }
 },
 "nbformat": 4,
 "nbformat_minor": 5
}
