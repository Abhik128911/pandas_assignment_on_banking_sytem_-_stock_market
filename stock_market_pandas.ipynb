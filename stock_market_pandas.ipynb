{
 "cells": [
  {
   "cell_type": "code",
   "execution_count": 1,
   "id": "fe5b275f",
   "metadata": {},
   "outputs": [],
   "source": [
    "import pandas as pd\n",
    "import numpy as np\n",
    "\n",
    "# --- Master (like 'products') ---\n",
    "stocks = pd.DataFrame({\n",
    "    \"ticker\": [\"ABC\", \"XYZ\", \"MNO\", \"HDP\"],\n",
    "    \"company\": [\"Alpha Inc\", \"Xyza Corp\", \"Mono Labs\", \"HeadPro\"],\n",
    "    \"sector\": [\"Tech\", \"Tech\", \"Healthcare\", \"Consumer\"],\n",
    "    \"avg_cost\": [120.0, 75.0, 50.0, 20.0],  # illustrative per-share book cost\n",
    "})\n",
    "\n",
    "# --- Daily prices (time series) ---\n",
    "dates = pd.to_datetime([\n",
    "    \"2024-01-05\",\"2024-01-10\",\"2024-02-01\",\"2024-02-20\",\"2024-03-01\",\"2024-03-15\"\n",
    "])\n",
    "prices = pd.DataFrame({\n",
    "    \"date\": np.repeat(dates, 4),\n",
    "    \"ticker\": [\"ABC\",\"XYZ\",\"MNO\",\"HDP\"] * len(dates),\n",
    "    \"close\": [130,78,52,22,  128,79,54,21,  140,85,55,23,  145,82,53,24,  150,88,57,25,  155,90,56,26],\n",
    "    \"volume\": [10000,12000,8000,7000,  9000,13000,7500,7200,  15000,16000,9000,8000,  14000,15500,8500,8200,  16000,17000,9500,8300,  15000,16500,9200,8400]\n",
    "})\n",
    "\n",
    "# --- Trade lines (each row is a trade fill, like order lines) ---\n",
    "trades = pd.DataFrame({\n",
    "    \"trade_id\": [1,1,2,3,3,4,5,5,6],\n",
    "    \"date\": pd.to_datetime([\n",
    "        \"2024-01-05\",\"2024-01-05\",\"2024-01-10\",\"2024-02-01\",\"2024-02-01\",\"2024-02-20\",\"2024-03-01\",\"2024-03-01\",\"2024-03-15\"\n",
    "    ]),\n",
    "    \"ticker\": [\"ABC\",\"HDP\",\"XYZ\",\"ABC\",\"MNO\",\"MNO\",\"XYZ\",\"HDP\",\"ABC\"],\n",
    "    \"side\": [\"SELL\",\"SELL\",\"BUY\",\"SELL\",\"SELL\",\"BUY\",\"SELL\",\"SELL\",\"SELL\"],  # simple demo\n",
    "    \"price\": [135,21,80,138,54,52,87,24,150],\n",
    "    \"quantity\": [10,100,50,5,20,30,15,120,8],\n",
    "    \"broker\": [\"A\",\"A\",\"B\",\"C\",\"C\",\"D\",\"E\",\"E\",\"F\"]\n",
    "})\n",
    "\n",
    "# --- Dividends (optional corporate action) ---\n",
    "dividends = pd.DataFrame({\n",
    "    \"date\": pd.to_datetime([\"2024-02-15\",\"2024-03-10\"]),\n",
    "    \"ticker\": [\"ABC\",\"XYZ\"],\n",
    "    \"div_per_share\": [1.0, 0.5]\n",
    "})\n"
   ]
  },
  {
   "cell_type": "code",
   "execution_count": 2,
   "id": "271eb93f",
   "metadata": {},
   "outputs": [
    {
     "name": "stdout",
     "output_type": "stream",
     "text": [
      "   trade_id  trade_value\n",
      "0         1         3450\n",
      "1         2         4000\n",
      "2         3         1770\n",
      "3         4         1560\n",
      "4         5         4185\n",
      "5         6         1200\n"
     ]
    }
   ],
   "source": [
    "# Revenue per trade line and per trade\n",
    "trades = trades.copy()\n",
    "trades[\"line_value\"] = trades[\"price\"] * trades[\"quantity\"]\n",
    "\n",
    "trade_value = (\n",
    "    trades.groupby(\"trade_id\", as_index=False)[\"line_value\"]\n",
    "          .sum()\n",
    "          .rename(columns={\"line_value\": \"trade_value\"})\n",
    ")\n",
    "print(trade_value)\n"
   ]
  },
  {
   "cell_type": "code",
   "execution_count": 3,
   "id": "0f5ab8f9",
   "metadata": {},
   "outputs": [
    {
     "name": "stdout",
     "output_type": "stream",
     "text": [
      "   trade_id ticker      sector  price  quantity  avg_cost\n",
      "0         1    ABC        Tech    135        10     120.0\n",
      "1         1    HDP    Consumer     21       100      20.0\n",
      "2         2    XYZ        Tech     80        50      75.0\n",
      "3         3    ABC        Tech    138         5     120.0\n",
      "4         3    MNO  Healthcare     54        20      50.0\n",
      "5         4    MNO  Healthcare     52        30      50.0\n",
      "6         5    XYZ        Tech     87        15      75.0\n",
      "7         5    HDP    Consumer     24       120      20.0\n",
      "8         6    ABC        Tech    150         8     120.0\n"
     ]
    }
   ],
   "source": [
    "# Join stock info (ticker -> company, sector, avg_cost)\n",
    "trades_enriched = trades.merge(stocks, on=\"ticker\", how=\"left\")\n",
    "print(trades_enriched[[\"trade_id\",\"ticker\",\"sector\",\"price\",\"quantity\",\"avg_cost\"]])\n"
   ]
  },
  {
   "cell_type": "code",
   "execution_count": 4,
   "id": "13e6861a",
   "metadata": {},
   "outputs": [
    {
     "name": "stdout",
     "output_type": "stream",
     "text": [
      "       sector  line_profit\n",
      "0    Consumer        580.0\n",
      "1  Healthcare         80.0\n",
      "2        Tech        660.0\n"
     ]
    }
   ],
   "source": [
    "# Simple realized profit on SELL trades only (demo); BUY lines profit=0\n",
    "trades_enriched[\"line_profit\"] = np.where(\n",
    "    trades_enriched[\"side\"] == \"SELL\",\n",
    "    (trades_enriched[\"price\"] - trades_enriched[\"avg_cost\"]) * trades_enriched[\"quantity\"],\n",
    "    0.0\n",
    ")\n",
    "\n",
    "profit_by_sector = (\n",
    "    trades_enriched.groupby(\"sector\", as_index=False)[\"line_profit\"].sum()\n",
    ")\n",
    "print(profit_by_sector)\n"
   ]
  },
  {
   "cell_type": "code",
   "execution_count": 5,
   "id": "a81a11f2",
   "metadata": {},
   "outputs": [
    {
     "name": "stdout",
     "output_type": "stream",
     "text": [
      "ticker           ABC       HDP       MNO       XYZ\n",
      "date                                              \n",
      "2024-01-31  0.000000  0.000000  0.000000  0.000000\n",
      "2024-02-29  0.132812  0.142857 -0.018519  0.037975\n",
      "2024-03-31  0.068966  0.083333  0.056604  0.097561\n"
     ]
    },
    {
     "name": "stderr",
     "output_type": "stream",
     "text": [
      "C:\\Users\\Lenovo\\AppData\\Local\\Temp\\ipykernel_24616\\2726450546.py:10: FutureWarning: 'M' is deprecated and will be removed in a future version, please use 'ME' instead.\n",
      "  .resample(\"M\")\n"
     ]
    }
   ],
   "source": [
    "# Daily returns per ticker\n",
    "prices_ts = prices.sort_values([\"ticker\",\"date\"]).set_index(\"date\")\n",
    "prices_ts[\"daily_ret\"] = (\n",
    "    prices_ts.groupby(\"ticker\")[\"close\"].pct_change()\n",
    ")\n",
    "\n",
    "# Month-end prices and MoM returns per ticker (wide)\n",
    "me_prices = (\n",
    "    prices_ts.groupby(\"ticker\")[\"close\"]\n",
    "             .resample(\"M\")\n",
    "             .last()\n",
    "             .unstack(level=0)\n",
    ")\n",
    "monthly_returns = me_prices.pct_change().fillna(0.0)\n",
    "print(monthly_returns)\n"
   ]
  },
  {
   "cell_type": "code",
   "execution_count": 7,
   "id": "ee7d00e2",
   "metadata": {},
   "outputs": [
    {
     "name": "stdout",
     "output_type": "stream",
     "text": [
      "           ticker  close       sma_3     vol_3\n",
      "date                                          \n",
      "2024-01-05    ABC    130  130.000000       NaN\n",
      "2024-01-05    ABC    130   22.000000       NaN\n",
      "2024-01-05    ABC    130   52.000000       NaN\n",
      "2024-01-05    ABC    130   78.000000       NaN\n",
      "2024-01-10    ABC    128  129.000000  1.414214\n",
      "2024-01-10    ABC    128   21.500000  0.707107\n",
      "2024-01-10    ABC    128   53.000000  1.414214\n",
      "2024-01-10    ABC    128   78.500000  0.707107\n",
      "2024-02-01    ABC    140  132.666667  6.429101\n",
      "2024-02-01    ABC    140   22.000000  1.000000\n",
      "2024-02-01    ABC    140   53.666667  1.527525\n",
      "2024-02-01    ABC    140   80.666667  3.785939\n"
     ]
    }
   ],
   "source": [
    "# Rolling indicators per ticker (e.g., 3-observation SMA / VOL for demo window)\n",
    "roll = (\n",
    "    prices_ts.groupby(\"ticker\")[[\"close\"]]\n",
    "             .rolling(window=3, min_periods=1)\n",
    "             .agg({\"close\": [\"mean\", \"std\"]})\n",
    "             .rename(columns={\"mean\": \"sma_3\", \"std\": \"vol_3\"})\n",
    "             .reset_index(level=0)\n",
    ")\n",
    "# Flatten MultiIndex columns\n",
    "roll.columns = [col[0] if col[1]==\"\" else col[1] if col[0]==\"close\" else col[0] for col in roll.columns]\n",
    "# Combine back with prices_ts\n",
    "prices_with_roll = prices_ts.join(roll.set_index(prices_ts.index)[[\"sma_3\",\"vol_3\"]])\n",
    "print(prices_with_roll[[\"ticker\",\"close\",\"sma_3\",\"vol_3\"]].head(12))\n"
   ]
  },
  {
   "cell_type": "code",
   "execution_count": 9,
   "id": "833d9981",
   "metadata": {},
   "outputs": [
    {
     "name": "stdout",
     "output_type": "stream",
     "text": [
      "        date      sector       ret\n",
      "0 2024-01-31    Consumer  0.000000\n",
      "1 2024-01-31  Healthcare  0.000000\n",
      "2 2024-01-31        Tech  0.000000\n",
      "3 2024-02-29    Consumer  0.142857\n",
      "4 2024-02-29  Healthcare -0.018519\n",
      "5 2024-02-29        Tech  0.085394\n",
      "6 2024-03-31    Consumer  0.083333\n",
      "7 2024-03-31  Healthcare  0.056604\n",
      "8 2024-03-31        Tech  0.083263\n"
     ]
    }
   ],
   "source": [
    "# Map ticker -> sector for sector-level aggregation\n",
    "ticker_to_sector = stocks.set_index(\"ticker\")[\"sector\"]\n",
    "\n",
    "# Monthly returns already in 'monthly_returns' (wide: columns=tickers)\n",
    "monthly_returns_long = (\n",
    "    monthly_returns.stack().rename(\"ret\").reset_index()\n",
    "    .rename(columns={\"level_0\":\"date\",\"level_1\":\"ticker\"})\n",
    ")\n",
    "\n",
    "# Attach sector and compute equal-weight sector return each month\n",
    "monthly_returns_long[\"sector\"] = monthly_returns_long[\"ticker\"].map(ticker_to_sector)\n",
    "sector_monthly = (\n",
    "    monthly_returns_long.groupby([\"date\",\"sector\"], as_index=False)[\"ret\"].mean()\n",
    "    .sort_values([\"date\",\"sector\"])\n",
    ")\n",
    "print(sector_monthly)\n"
   ]
  },
  {
   "cell_type": "code",
   "execution_count": 10,
   "id": "78640fd9",
   "metadata": {},
   "outputs": [
    {
     "name": "stdout",
     "output_type": "stream",
     "text": [
      "ticker      ABC  XYZ\n",
      "date                \n",
      "2024-02-29  1.0  0.0\n",
      "2024-03-31  0.0  0.5\n"
     ]
    },
    {
     "name": "stderr",
     "output_type": "stream",
     "text": [
      "C:\\Users\\Lenovo\\AppData\\Local\\Temp\\ipykernel_24616\\4230240829.py:5: FutureWarning: 'M' is deprecated and will be removed in a future version, please use 'ME' instead.\n",
      "  .resample(\"M\")\n"
     ]
    }
   ],
   "source": [
    "# Monthly dividend cash per ticker\n",
    "div_monthly = (\n",
    "    dividends.set_index(\"date\")\n",
    "             .groupby(\"ticker\")[\"div_per_share\"]\n",
    "             .resample(\"M\")\n",
    "             .sum()\n",
    "             .unstack(level=0)\n",
    "             .fillna(0.0)\n",
    ")\n",
    "print(div_monthly)\n"
   ]
  }
 ],
 "metadata": {
  "kernelspec": {
   "display_name": "Python 3",
   "language": "python",
   "name": "python3"
  },
  "language_info": {
   "codemirror_mode": {
    "name": "ipython",
    "version": 3
   },
   "file_extension": ".py",
   "mimetype": "text/x-python",
   "name": "python",
   "nbconvert_exporter": "python",
   "pygments_lexer": "ipython3",
   "version": "3.12.4"
  }
 },
 "nbformat": 4,
 "nbformat_minor": 5
}
